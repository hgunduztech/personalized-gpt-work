{
 "cells": [
  {
   "cell_type": "code",
   "execution_count": 12,
   "id": "72734492",
   "metadata": {},
   "outputs": [],
   "source": [
    "# Import the OpenAI library\n",
    "# OpenAI kütüphanesini içe aktarın\n",
    "import openai\n",
    "\n",
    "# Set your OpenAI API key to authenticate your requests\n",
    "# API isteklerinizi kimlik doğrulamak için OpenAI API anahtarınızı ayarlayın\n",
    "openai.api_key = 'YOUR_OPENAI_KEY'\n",
    "\n",
    "# Create a client using the OpenAI library\n",
    "# OpenAI kütüphanesini kullanarak bir istemci oluşturun\n",
    "client = openai\n",
    "\n",
    "# Set your assistant ID if you have a specific one\n",
    "# Belirli bir asistan ID'niz varsa, bunu ayarlayın\n",
    "assistant_id = 'YOUR_ASSISTANT_ID'\n",
    "\n",
    "# Example API request to create a completion\n",
    "# Bir tamamlamayı oluşturmak için örnek API isteği\n",
    "response = client.Completion.create(\n",
    "    engine=\"text-davinci-003\",  # Choose the language model engine\n",
    "    prompt=\"Translate this text to French.\",  # Text to be translated\n",
    "    max_tokens=60  # Maximum number of tokens in the response\n",
    ")\n",
    "\n",
    "# Print the response text\n",
    "# Yanıt metnini yazdırın\n",
    "print(response.choices[0].text.strip())\n"
   ]
  },
  {
   "cell_type": "code",
   "execution_count": 2,
   "id": "60d2719d",
   "metadata": {},
   "outputs": [],
   "source": [
    "# Create a new thread (beta feature)\n",
    "# Yeni bir thread oluşturun (beta özelliği)\n",
    "thread = client.beta.threads.create()\n"
   ]
  },
  {
   "cell_type": "code",
   "execution_count": 3,
   "id": "0e6cca25",
   "metadata": {},
   "outputs": [],
   "source": [
    "# Create a new message in the thread\n",
    "# Thread içinde yeni bir mesaj oluşturun\n",
    "message = client.beta.threads.messages.create(\n",
    "  thread_id=thread.id,\n",
    "  role=\"user\",\n",
    "  content=\"Bana güzel bir tatlı tarifi önerebilir misin?\"\n",
    ")\n"
   ]
  },
  {
   "cell_type": "code",
   "execution_count": 4,
   "id": "8749103e",
   "metadata": {},
   "outputs": [],
   "source": [
    "# Run the thread with the specified assistant\n",
    "# Belirtilen asistan ile thread'i çalıştırın\n",
    "run = client.beta.threads.runs.create(\n",
    "  thread_id=thread.id,\n",
    "  assistant_id=assistant_id\n",
    ")\n"
   ]
  },
  {
   "cell_type": "code",
   "execution_count": 10,
   "id": "bab0b527",
   "metadata": {},
   "outputs": [
    {
     "name": "stdout",
     "output_type": "stream",
     "text": [
      "SyncCursorPage[ThreadMessage](data=[ThreadMessage(id='msg_1jrVn9RMh5IVG9ST0HDPmPyo', assistant_id='asst_YhleeC4uozG2MOLJu2ONE0Za', content=[MessageContentText(text=Text(annotations=[], value=\"Tabii ki! Hafif ve şık bir tatlı seçeneği olan Portakallı Cheesecake tarifi verebilirim. Portakallı Cheesecake, portakalın ferahlatıcı tadı ile peynirin zengin dokusu harmanlandığında ortaya çıkan eşsiz bir tatlıdır. İşte tarif:\\n\\n### Malzemeler:\\n- **Taban için:**\\n  - 200 g tereyağı (eritilmiş)\\n  - 300 g öğütülmüş bisküvi (tercihen digestive)\\n\\n- **Cheesecake karışımı için:**\\n  - 600 g krem peynir (oda sıcaklığında)\\n  - 1 su bardağı toz şeker\\n  - 3 büyük boy yumurta\\n  - 1 çay kaşığı vanilin esansı\\n  - 1 büyük portakalın rendelenmiş kabuğu\\n  - 1/2 su bardağı portakal suyu (taze sıkılmış)\\n  - 1 yemek kaşığı un\\n\\n- **Süslemek için:**\\n  - Portakal dilimleri\\n  - Taze nane yaprakları\\n\\n### Hazırlık Adımları:\\n1. **Tabanı Hazırlama:**\\n   - Fırını 170°C'ye ayarlayın.\\n   - Bir kapta eritilmiş tereyağı ve öğütülmüş bisküvileri karıştırın.\\n   - Bir 20-22 cm'lik yuvarlak kelepçeli kalıba bu karışımı dökün ve tabanı düz bir şekilde sıkıştırarak yayın.\\n   - Önceden ısıtılmış fırında 10 dakika kadar pişirin ve sonra soğumaya bırakın.\\n\\n2. **Cheesecake Karışımı:**\\n   - Büyük bir kasede krem peynir ve toz şekeri mikserle pürüzsüz oluncaya kadar çırpın.\\n   - Yumurtaları teker teker ekleyerek her birini iyice karıştırdıktan sonra diğerini ekleyin.\\n   - Vanilin, portakal kabuğu rendesi ve portakal suyunu ekleyip karıştırın.\\n   - Son olarak unu ekleyip hafifçe karıştırın.\\n\\n3. **Pişirme:**\\n   - Cheesecake karışımını pişmiş ve soğumuş tabanın üzerine dökün.\\n   - 160°C'ye ayarlanmış fırında 50-55 dakika pişirin. Cheesecake'in ortası hafifçe sallanıyor olmalıdır.\\n   - Fırını kapatın ve cheesecake'i fırında kapıyı aralık bırakarak 1 saat daha bekletin.\\n\\n4. **Soğutma ve Servis:**\\n   - Cheesecake tamamen soğuduktan sonra buzdolabında en az 4 saat, ideal olarak bir gece bekletin.\\n   - Servis yapmadan hemen önce portakal dilimleri ve taze nane yaprakları ile süsleyin.\\n\\nBu tarif, hem göze hem de damağa hitap eden bir tatlı olacak. Üzerindeki taze portakal dilimleri ve nane yapraklarıyla sunumu tamamlayabilirsiniz. Afiyet olsun!\"), type='text')], created_at=1718805119, file_ids=[], metadata={}, object='thread.message', role='assistant', run_id='run_i5OKpq000W0tdYNPXABTijcZ', thread_id='thread_YqFtOaPug9LuDozuDoziu0fO'), ThreadMessage(id='msg_3iokmwiuGD7y5SJp7Bb7FBeE', assistant_id=None, content=[MessageContentText(text=Text(annotations=[], value='Bana güzel bir tatlı tarifi önerebilir misin?'), type='text')], created_at=1718805118, file_ids=[], metadata={}, object='thread.message', role='user', run_id=None, thread_id='thread_YqFtOaPug9LuDozuDoziu0fO')], object='list', first_id='msg_1jrVn9RMh5IVG9ST0HDPmPyo', last_id='msg_3iokmwiuGD7y5SJp7Bb7FBeE', has_more=False)\n"
     ]
    }
   ],
   "source": [
    "# Retrieve and print the list of messages in the thread\n",
    "# Thread içindeki mesajların listesini alıp yazdırın\n",
    "messages = client.beta.threads.messages.list(thread_id=thread.id)\n",
    "print(messages)\n"
   ]
  },
  {
   "cell_type": "code",
   "execution_count": 11,
   "id": "179e9715",
   "metadata": {},
   "outputs": [
    {
     "name": "stdout",
     "output_type": "stream",
     "text": [
      "Tabii ki! Hafif ve şık bir tatlı seçeneği olan Portakallı Cheesecake tarifi verebilirim. Portakallı Cheesecake, portakalın ferahlatıcı tadı ile peynirin zengin dokusu harmanlandığında ortaya çıkan eşsiz bir tatlıdır. İşte tarif:\n",
      "\n",
      "### Malzemeler:\n",
      "- **Taban için:**\n",
      "  - 200 g tereyağı (eritilmiş)\n",
      "  - 300 g öğütülmüş bisküvi (tercihen digestive)\n",
      "\n",
      "- **Cheesecake karışımı için:**\n",
      "  - 600 g krem peynir (oda sıcaklığında)\n",
      "  - 1 su bardağı toz şeker\n",
      "  - 3 büyük boy yumurta\n",
      "  - 1 çay kaşığı vanilin esansı\n",
      "  - 1 büyük portakalın rendelenmiş kabuğu\n",
      "  - 1/2 su bardağı portakal suyu (taze sıkılmış)\n",
      "  - 1 yemek kaşığı un\n",
      "\n",
      "- **Süslemek için:**\n",
      "  - Portakal dilimleri\n",
      "  - Taze nane yaprakları\n",
      "\n",
      "### Hazırlık Adımları:\n",
      "1. **Tabanı Hazırlama:**\n",
      "   - Fırını 170°C'ye ayarlayın.\n",
      "   - Bir kapta eritilmiş tereyağı ve öğütülmüş bisküvileri karıştırın.\n",
      "   - Bir 20-22 cm'lik yuvarlak kelepçeli kalıba bu karışımı dökün ve tabanı düz bir şekilde sıkıştırarak yayın.\n",
      "   - Önceden ısıtılmış fırında 10 dakika kadar pişirin ve sonra soğumaya bırakın.\n",
      "\n",
      "2. **Cheesecake Karışımı:**\n",
      "   - Büyük bir kasede krem peynir ve toz şekeri mikserle pürüzsüz oluncaya kadar çırpın.\n",
      "   - Yumurtaları teker teker ekleyerek her birini iyice karıştırdıktan sonra diğerini ekleyin.\n",
      "   - Vanilin, portakal kabuğu rendesi ve portakal suyunu ekleyip karıştırın.\n",
      "   - Son olarak unu ekleyip hafifçe karıştırın.\n",
      "\n",
      "3. **Pişirme:**\n",
      "   - Cheesecake karışımını pişmiş ve soğumuş tabanın üzerine dökün.\n",
      "   - 160°C'ye ayarlanmış fırında 50-55 dakika pişirin. Cheesecake'in ortası hafifçe sallanıyor olmalıdır.\n",
      "   - Fırını kapatın ve cheesecake'i fırında kapıyı aralık bırakarak 1 saat daha bekletin.\n",
      "\n",
      "4. **Soğutma ve Servis:**\n",
      "   - Cheesecake tamamen soğuduktan sonra buzdolabında en az 4 saat, ideal olarak bir gece bekletin.\n",
      "   - Servis yapmadan hemen önce portakal dilimleri ve taze nane yaprakları ile süsleyin.\n",
      "\n",
      "Bu tarif, hem göze hem de damağa hitap eden bir tatlı olacak. Üzerindeki taze portakal dilimleri ve nane yapraklarıyla sunumu tamamlayabilirsiniz. Afiyet olsun!\n"
     ]
    }
   ],
   "source": [
    "# Print the content of the first message in the list\n",
    "# Liste içindeki ilk mesajın içeriğini yazdırın\n",
    "print(messages.data[0].content[0].text.value)\n"
   ]
  },
  {
   "cell_type": "code",
   "execution_count": null,
   "id": "5bde3260",
   "metadata": {},
   "outputs": [],
   "source": []
  }
 ],
 "metadata": {
  "kernelspec": {
   "display_name": "Python 3 (ipykernel)",
   "language": "python",
   "name": "python3"
  },
  "language_info": {
   "codemirror_mode": {
    "name": "ipython",
    "version": 3
   },
   "file_extension": ".py",
   "mimetype": "text/x-python",
   "name": "python",
   "nbconvert_exporter": "python",
   "pygments_lexer": "ipython3",
   "version": "3.11.7"
  }
 },
 "nbformat": 4,
 "nbformat_minor": 5
}
